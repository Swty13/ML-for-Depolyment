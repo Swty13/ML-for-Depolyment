{
 "cells": [
  {
   "cell_type": "markdown",
   "metadata": {},
   "source": [
    "Q1. Write a Python program to get the string from the given string where \n",
    "all the occurrence of its first char has been changed to '$,' except first \n",
    "char itself?\n",
    "\n",
    "\n",
    "Sample String: 'prospect'\n",
    "Expected Result : 'pros$ect'"
   ]
  },
  {
   "cell_type": "code",
   "execution_count": 46,
   "metadata": {},
   "outputs": [
    {
     "data": {
      "text/plain": [
       "'pros$ect'"
      ]
     },
     "execution_count": 46,
     "metadata": {},
     "output_type": "execute_result"
    }
   ],
   "source": [
    "def ans_1(string):\n",
    "    a=string[0]\n",
    "    rep=string.replace(string[0],\"$\")\n",
    "    return (a+rep[1:] )\n",
    "           \n",
    "ans_1('prospect')"
   ]
  },
  {
   "cell_type": "markdown",
   "metadata": {},
   "source": [
    "Q2. Write a Python program to get the single string from the two given \n",
    "strings, and separated by the space and swap the first two characters of \n",
    "each string?\n",
    "\n",
    "Sample String : 'abc', 'xyz'.\n",
    "Expected Result: 'xyc abz'"
   ]
  },
  {
   "cell_type": "code",
   "execution_count": 31,
   "metadata": {},
   "outputs": [
    {
     "data": {
      "text/plain": [
       "'xyc abz'"
      ]
     },
     "execution_count": 31,
     "metadata": {},
     "output_type": "execute_result"
    }
   ],
   "source": [
    "def ans_2(str1,str2):\n",
    "    res1=str2[0:2] + str1[-1]\n",
    "    res2=str1[0:2] + str2[-1]\n",
    "    return (res1 + \" \" + res2)\n",
    "\n",
    "ans_2('abc', 'xyz')\n",
    "    \n",
    "            "
   ]
  },
  {
   "cell_type": "markdown",
   "metadata": {},
   "source": [
    "Q3. Write the Python program to add 'ing' at the end of the given string \n",
    "(length of the string should be at least 3). If given string already ends \n",
    "with 'ing,' then add 'ly' instead. If string length of the given string is less \n",
    "than 3, leave it unchanged?\n",
    "\n",
    "Sample string: ' abc '\n",
    "Expected result: ' abcing '\n",
    "Sample string: ' string '\n",
    "Expected result: ' stringly '"
   ]
  },
  {
   "cell_type": "code",
   "execution_count": 32,
   "metadata": {},
   "outputs": [
    {
     "data": {
      "text/plain": [
       "'abcing'"
      ]
     },
     "execution_count": 32,
     "metadata": {},
     "output_type": "execute_result"
    }
   ],
   "source": [
    "def ans_3(string):\n",
    "    if string.endswith('ing'):\n",
    "        return (string.replace('ing','ly'))\n",
    "    elif len(string)>=3:\n",
    "         return(string+\"ing\")\n",
    "    else:\n",
    "        pass\n",
    "            \n",
    "ans_3('abc') \n",
    "    "
   ]
  },
  {
   "cell_type": "markdown",
   "metadata": {},
   "source": [
    "Q4. Write the Python program to find the first appearance of the \n",
    "substring 'not' and 'poor' from the given string, if 'not' follows the 'poor', \n",
    "replace the whole 'not'...' poor' substring with 'good'.Return the resulting \n",
    "string.\n",
    "\n",
    "Sample string: 'The lyrics are not that poor!'\n",
    "'The lyrics are poor!'\n",
    "Expected Result: 'The lyrics are good!'\n",
    "'The lyrics are poor!'"
   ]
  },
  {
   "cell_type": "code",
   "execution_count": null,
   "metadata": {},
   "outputs": [],
   "source": [
    "def ans_4(str1):\n",
    "    for "
   ]
  },
  {
   "cell_type": "markdown",
   "metadata": {},
   "source": [
    "Q5. Write the Python program to remove the characters which have odd \n",
    "index values of a given string."
   ]
  },
  {
   "cell_type": "code",
   "execution_count": 61,
   "metadata": {},
   "outputs": [
    {
     "data": {
      "text/plain": [
       "' bdf'"
      ]
     },
     "execution_count": 61,
     "metadata": {},
     "output_type": "execute_result"
    }
   ],
   "source": [
    "def ans_5(str1):\n",
    "    new_str=' '\n",
    "    for i in range(len(str1)):\n",
    "        if i%2!=0:\n",
    "            new_str = new_str + str1[i]\n",
    "    return new_str\n",
    "            \n",
    "\n",
    "\n",
    "        \n",
    "ans_5('abcdef')\n",
    "        "
   ]
  },
  {
   "cell_type": "markdown",
   "metadata": {},
   "source": [
    "Q6. Write the Python function to get a string made of 4 copies of the last \n",
    "two characters of the specified string (length must be at least 2).\n",
    "\n",
    "Sample function and result :\n",
    "insert-end ('Python') -> abababab\n",
    "insert-end('Exercises') -> jkjkjkjk"
   ]
  },
  {
   "cell_type": "code",
   "execution_count": 64,
   "metadata": {},
   "outputs": [
    {
     "data": {
      "text/plain": [
       "'onononon'"
      ]
     },
     "execution_count": 64,
     "metadata": {},
     "output_type": "execute_result"
    }
   ],
   "source": [
    "def ans_6(str1):\n",
    "    if len(str1)>2:\n",
    "        return(str1[-2:]*4)\n",
    "    \n",
    "ans_6('Python')       "
   ]
  },
  {
   "cell_type": "markdown",
   "metadata": {},
   "source": [
    "Q7. Write the python function to get a string made of its first three \n",
    "characters of a specified string. If the length of the string is less than 3 \n",
    "then return the original string."
   ]
  },
  {
   "cell_type": "code",
   "execution_count": 68,
   "metadata": {},
   "outputs": [
    {
     "data": {
      "text/plain": [
       "'Pyt'"
      ]
     },
     "execution_count": 68,
     "metadata": {},
     "output_type": "execute_result"
    }
   ],
   "source": [
    "def ans_7(str1):\n",
    "    if len(str1)>=3:\n",
    "        return(str1[:3])\n",
    "    else:\n",
    "        return(str1)\n",
    "    \n",
    "ans_7('Python')    "
   ]
  },
  {
   "cell_type": "markdown",
   "metadata": {},
   "source": [
    "Q8. Write the python program to print the following floating numbers up\n",
    "to 2 decimal places?"
   ]
  },
  {
   "cell_type": "code",
   "execution_count": 71,
   "metadata": {},
   "outputs": [
    {
     "data": {
      "text/plain": [
       "'5689.91'"
      ]
     },
     "execution_count": 71,
     "metadata": {},
     "output_type": "execute_result"
    }
   ],
   "source": [
    "def ans_8(number):\n",
    "    return(\"{0:.2f}\".format(round(number,2)))\n",
    "    \n",
    "ans_8(5689.9066333)  "
   ]
  },
  {
   "cell_type": "markdown",
   "metadata": {},
   "source": [
    "Q9. Write the Python program to format a number with a percentage?\n",
    "\n"
   ]
  },
  {
   "cell_type": "code",
   "execution_count": null,
   "metadata": {},
   "outputs": [],
   "source": [
    "def ans_9(number):\n",
    "    return(\"{0:.2f}\".format(round(number,2)))\n",
    "    \"TO BE DONE...........................................\"\n",
    "ans_8(5689.9066333)  "
   ]
  },
  {
   "cell_type": "markdown",
   "metadata": {},
   "source": [
    "Q10. Write the Python program to count occurrences of a substring in a \n",
    "String? "
   ]
  },
  {
   "cell_type": "code",
   "execution_count": 83,
   "metadata": {},
   "outputs": [
    {
     "data": {
      "text/plain": [
       "3"
      ]
     },
     "execution_count": 83,
     "metadata": {},
     "output_type": "execute_result"
    }
   ],
   "source": [
    "import re\n",
    "def ans_10(string,sub_str):\n",
    "    return(string.count(sub_str))\n",
    "\n",
    " \n",
    "ans_10(\"MYababMYubab\",\"ab\")  "
   ]
  },
  {
   "cell_type": "markdown",
   "metadata": {},
   "source": [
    "Q11. Write the Python program to count repeated characters in a string.\n",
    "\n",
    "\n",
    "Sample string: ' thequickbrownjumpsoverthelazydog '\n",
    "Expected output:\n",
    "o 3\n",
    "e 3\n",
    "u 2\n",
    "h 2"
   ]
  },
  {
   "cell_type": "code",
   "execution_count": 149,
   "metadata": {},
   "outputs": [
    {
     "name": "stdout",
     "output_type": "stream",
     "text": [
      "t 2\n",
      "h 2\n",
      "e 3\n",
      "u 2\n",
      "r 2\n",
      "o 3\n"
     ]
    }
   ],
   "source": [
    "from collections import Counter \n",
    "def ans_11(string):\n",
    "    res = Counter(string) \n",
    "    for val in res:\n",
    "        if res[val]>1:\n",
    "            print(val,res[val])\n",
    "    return \n",
    " \n",
    "     \n",
    "\n",
    "ans_11(\"thequickbrownjumpsoverthelazydog\")  "
   ]
  },
  {
   "cell_type": "markdown",
   "metadata": {},
   "source": [
    "Q12. Write the Python program to print the square and cube symbol in \n",
    "the area of a rectangle and volume of a cylinder?\n",
    "\n",
    "\n",
    "Sample output\u0002The area of the rectangle is 1256.66cm2\n",
    "The volume of the cylinder is 1254.725cm3\n",
    " \n"
   ]
  },
  {
   "cell_type": "code",
   "execution_count": 161,
   "metadata": {},
   "outputs": [
    {
     "name": "stdout",
     "output_type": "stream",
     "text": [
      "The area of the rectangle is  1256.66cm²\n",
      "The volume of the rectangle is  1254.725cm²\n"
     ]
    }
   ],
   "source": [
    "def ans_12(sbal):\n",
    "    if sbal==2:\n",
    "        area=1256.66\n",
    "        print(\"The area of the rectangle is  {0:.{1}f}cm\\u00b2\".format(area, sbal))\n",
    "    elif sbal==3:\n",
    "        vol=1254.725\n",
    "        print(\"The volume of the rectangle is  {0:.{1}f}cm\\u00b2\".format(vol, sbal))\n",
    "\n",
    "    \n",
    "ans_12(2)  \n",
    "ans_12(3)  "
   ]
  },
  {
   "cell_type": "markdown",
   "metadata": {},
   "source": [
    "Q13. Write the Python program to check if a string contains all letters of \n",
    "the alphabet?"
   ]
  },
  {
   "cell_type": "code",
   "execution_count": 128,
   "metadata": {},
   "outputs": [
    {
     "data": {
      "text/plain": [
       "False"
      ]
     },
     "execution_count": 128,
     "metadata": {},
     "output_type": "execute_result"
    }
   ],
   "source": [
    "def ans_13(string):\n",
    "    if string.isalpha()==True:\n",
    "        return (True)\n",
    "    else:\n",
    "        return (False)\n",
    "        \n",
    "ans_13(\"abhc7\")"
   ]
  },
  {
   "cell_type": "markdown",
   "metadata": {},
   "source": [
    "Q14. Write the Python program to find the second most repeated word \n",
    "in a given string? "
   ]
  },
  {
   "cell_type": "code",
   "execution_count": null,
   "metadata": {},
   "outputs": [],
   "source": [
    "def ans_14(string):\n",
    "    if string.isalpha()==True:\n",
    "        return (True)\n",
    "    else:\n",
    "        return (False)\n",
    "        \n",
    "ans_13(\"abhc7\")"
   ]
  },
  {
   "cell_type": "markdown",
   "metadata": {},
   "source": [
    "Q15. Write the Python program to find the minimum window in the given\n",
    "string, which will contains all the characters of another given \n",
    "strings?\n",
    "Example 1\n",
    "Input : string1 = \" PRWSOERIUSFK \"\n",
    "string2 = \" OSU \"\n",
    "Output: Minimum window is \"OERIUS\""
   ]
  },
  {
   "cell_type": "markdown",
   "metadata": {},
   "source": [
    "Q16. Write the Python program to find smallest window that contains all \n",
    "characters of the given string?"
   ]
  },
  {
   "cell_type": "markdown",
   "metadata": {},
   "source": [
    "101. Write the Python program to add, subtract, multiply and divide \n",
    "two pandas series ?"
   ]
  },
  {
   "cell_type": "code",
   "execution_count": 162,
   "metadata": {},
   "outputs": [],
   "source": [
    "import pandas as pd"
   ]
  },
  {
   "cell_type": "code",
   "execution_count": 172,
   "metadata": {},
   "outputs": [
    {
     "ename": "TypeError",
     "evalue": "'list' object is not callable",
     "output_type": "error",
     "traceback": [
      "\u001b[1;31m---------------------------------------------------------------------------\u001b[0m",
      "\u001b[1;31mTypeError\u001b[0m                                 Traceback (most recent call last)",
      "\u001b[1;32m<ipython-input-172-4c6788a426bc>\u001b[0m in \u001b[0;36m<module>\u001b[1;34m\u001b[0m\n\u001b[1;32m----> 1\u001b[1;33m \u001b[0mser1\u001b[0m\u001b[1;33m=\u001b[0m\u001b[0mpd\u001b[0m\u001b[1;33m.\u001b[0m\u001b[0mSeries\u001b[0m\u001b[1;33m(\u001b[0m\u001b[1;36m2\u001b[0m\u001b[1;33m,\u001b[0m\u001b[1;36m4\u001b[0m\u001b[1;33m,\u001b[0m\u001b[1;36m6\u001b[0m\u001b[1;33m,\u001b[0m\u001b[1;36m8\u001b[0m\u001b[1;33m,\u001b[0m\u001b[1;36m10\u001b[0m\u001b[1;33m)\u001b[0m\u001b[1;33m\u001b[0m\u001b[1;33m\u001b[0m\u001b[0m\n\u001b[0m\u001b[0;32m      2\u001b[0m \u001b[0mser2\u001b[0m\u001b[1;33m=\u001b[0m\u001b[0mpd\u001b[0m\u001b[1;33m.\u001b[0m\u001b[0mSeries\u001b[0m\u001b[1;33m(\u001b[0m\u001b[1;36m1\u001b[0m\u001b[1;33m,\u001b[0m\u001b[1;36m3\u001b[0m\u001b[1;33m,\u001b[0m\u001b[1;36m5\u001b[0m\u001b[1;33m,\u001b[0m\u001b[1;36m7\u001b[0m\u001b[1;33m,\u001b[0m\u001b[1;36m9\u001b[0m\u001b[1;33m)\u001b[0m\u001b[1;33m\u001b[0m\u001b[1;33m\u001b[0m\u001b[0m\n\u001b[0;32m      3\u001b[0m \u001b[0mser_add\u001b[0m\u001b[1;33m=\u001b[0m\u001b[0mser1\u001b[0m\u001b[1;33m+\u001b[0m\u001b[0mser2\u001b[0m\u001b[1;33m\u001b[0m\u001b[1;33m\u001b[0m\u001b[0m\n\u001b[0;32m      4\u001b[0m \u001b[0mser_add\u001b[0m\u001b[1;33m\u001b[0m\u001b[1;33m\u001b[0m\u001b[0m\n",
      "\u001b[1;31mTypeError\u001b[0m: 'list' object is not callable"
     ]
    }
   ],
   "source": [
    "ser1=pd.Series(2,4,6,8,10)\n",
    "ser2=pd.Series(1,3,5,7,9)\n",
    "ser_add=ser1+ser2\n",
    "ser_add\n"
   ]
  },
  {
   "cell_type": "code",
   "execution_count": 170,
   "metadata": {},
   "outputs": [
    {
     "ename": "TypeError",
     "evalue": "'list' object is not callable",
     "output_type": "error",
     "traceback": [
      "\u001b[1;31m---------------------------------------------------------------------------\u001b[0m",
      "\u001b[1;31mTypeError\u001b[0m                                 Traceback (most recent call last)",
      "\u001b[1;32m<ipython-input-170-eead4eaf35a5>\u001b[0m in \u001b[0;36m<module>\u001b[1;34m\u001b[0m\n\u001b[1;32m----> 1\u001b[1;33m \u001b[0mds1\u001b[0m \u001b[1;33m=\u001b[0m \u001b[0mpd\u001b[0m\u001b[1;33m.\u001b[0m\u001b[0mSeries\u001b[0m\u001b[1;33m(\u001b[0m\u001b[1;33m[\u001b[0m\u001b[1;36m2\u001b[0m\u001b[1;33m,\u001b[0m \u001b[1;36m4\u001b[0m\u001b[1;33m,\u001b[0m \u001b[1;36m6\u001b[0m\u001b[1;33m,\u001b[0m \u001b[1;36m8\u001b[0m\u001b[1;33m,\u001b[0m \u001b[1;36m10\u001b[0m\u001b[1;33m]\u001b[0m\u001b[1;33m)\u001b[0m\u001b[1;33m\u001b[0m\u001b[1;33m\u001b[0m\u001b[0m\n\u001b[0m\u001b[0;32m      2\u001b[0m \u001b[0mds2\u001b[0m \u001b[1;33m=\u001b[0m \u001b[0mpd\u001b[0m\u001b[1;33m.\u001b[0m\u001b[0mSeries\u001b[0m\u001b[1;33m(\u001b[0m\u001b[1;33m[\u001b[0m\u001b[1;36m1\u001b[0m\u001b[1;33m,\u001b[0m \u001b[1;36m3\u001b[0m\u001b[1;33m,\u001b[0m \u001b[1;36m5\u001b[0m\u001b[1;33m,\u001b[0m \u001b[1;36m7\u001b[0m\u001b[1;33m,\u001b[0m \u001b[1;36m9\u001b[0m\u001b[1;33m]\u001b[0m\u001b[1;33m)\u001b[0m\u001b[1;33m\u001b[0m\u001b[1;33m\u001b[0m\u001b[0m\n\u001b[0;32m      3\u001b[0m \u001b[0mds\u001b[0m \u001b[1;33m=\u001b[0m \u001b[0mds1\u001b[0m \u001b[1;33m+\u001b[0m \u001b[0mds2\u001b[0m\u001b[1;33m\u001b[0m\u001b[1;33m\u001b[0m\u001b[0m\n\u001b[0;32m      4\u001b[0m \u001b[0mds\u001b[0m\u001b[1;33m\u001b[0m\u001b[1;33m\u001b[0m\u001b[0m\n",
      "\u001b[1;31mTypeError\u001b[0m: 'list' object is not callable"
     ]
    }
   ],
   "source": []
  }
 ],
 "metadata": {
  "kernelspec": {
   "display_name": "Python 3",
   "language": "python",
   "name": "python3"
  },
  "language_info": {
   "codemirror_mode": {
    "name": "ipython",
    "version": 3
   },
   "file_extension": ".py",
   "mimetype": "text/x-python",
   "name": "python",
   "nbconvert_exporter": "python",
   "pygments_lexer": "ipython3",
   "version": "3.7.3"
  }
 },
 "nbformat": 4,
 "nbformat_minor": 2
}
